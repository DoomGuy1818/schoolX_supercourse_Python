{
 "cells": [
  {
   "cell_type": "code",
   "execution_count": 7,
   "id": "ee516f7e-b86a-4ecf-9073-2cb45ee1a567",
   "metadata": {},
   "outputs": [
    {
     "name": "stdout",
     "output_type": "stream",
     "text": [
      "Note: you may need to restart the kernel to use updated packages.\n"
     ]
    }
   ],
   "source": [
    "%pip install -q rich\n",
    "from rich import print as rp"
   ]
  },
  {
   "cell_type": "code",
   "execution_count": 8,
   "id": "ee9f4aa4-77ec-4090-90e2-3c9a71c65afe",
   "metadata": {},
   "outputs": [],
   "source": [
    "tree = {\n",
    "    1:{\n",
    "        1:{\n",
    "            1: 'text',\n",
    "            2: 'text',\n",
    "            3: 'text',\n",
    "        },\n",
    "    },\n",
    "    2:{\n",
    "        1: {\n",
    "            1: {\n",
    "                1: {\n",
    "                    \n",
    "                    1: 'folder',\n",
    "                    2: 'folder',\n",
    "                    3: 'target_folder',\n",
    "   \n",
    "                },\n",
    "                2: [1, 2, 3]\n",
    "            },\n",
    "        },\n",
    "    },\n",
    "}\n",
    "\n"
   ]
  },
  {
   "cell_type": "code",
   "execution_count": 17,
   "id": "e09b9a63-4d63-488a-b36b-c4e311bf0cbd",
   "metadata": {},
   "outputs": [],
   "source": [
    "def rec_find(tree: dict, name: str):\n",
    "    for key, value in tree.items():\n",
    "        if isinstance(value, dict):\n",
    "            rec_find(value, name)\n",
    "            \n",
    "        else:\n",
    "            if value == name:\n",
    "                print('FOUND IT')\n",
    "                break\n",
    "\n"
   ]
  },
  {
   "cell_type": "code",
   "execution_count": 18,
   "id": "71e7510a-14ac-4fc7-9c74-bb24963a3436",
   "metadata": {},
   "outputs": [
    {
     "data": {
      "text/html": [
       "<pre style=\"white-space:pre;overflow-x:auto;line-height:normal;font-family:Menlo,'DejaVu Sans Mono',consolas,'Courier New',monospace\">FOUND IT\n",
       "</pre>\n"
      ],
      "text/plain": [
       "FOUND IT\n"
      ]
     },
     "metadata": {},
     "output_type": "display_data"
    }
   ],
   "source": [
    "rec_find(tree, 'target_folder')"
   ]
  },
  {
   "cell_type": "code",
   "execution_count": null,
   "id": "dcd07e32-f172-4f57-8fb5-9615333bd195",
   "metadata": {},
   "outputs": [],
   "source": []
  },
  {
   "cell_type": "code",
   "execution_count": null,
   "id": "0a92b16b-9beb-4bc7-b417-9229b718545f",
   "metadata": {},
   "outputs": [],
   "source": []
  },
  {
   "cell_type": "code",
   "execution_count": null,
   "id": "9d32472a-9ba1-45d8-bfac-a6967609c011",
   "metadata": {},
   "outputs": [],
   "source": []
  }
 ],
 "metadata": {
  "kernelspec": {
   "display_name": "Python 3 (ipykernel)",
   "language": "python",
   "name": "python3"
  },
  "language_info": {
   "codemirror_mode": {
    "name": "ipython",
    "version": 3
   },
   "file_extension": ".py",
   "mimetype": "text/x-python",
   "name": "python",
   "nbconvert_exporter": "python",
   "pygments_lexer": "ipython3",
   "version": "3.10.4"
  }
 },
 "nbformat": 4,
 "nbformat_minor": 5
}
