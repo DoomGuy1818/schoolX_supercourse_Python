{
 "cells": [
  {
   "cell_type": "code",
   "execution_count": 6,
   "id": "840a2419-b66f-42ae-a646-c047e677381c",
   "metadata": {},
   "outputs": [],
   "source": [
    "class MixinFlyable:\n",
    "    def fly(self):\n",
    "        print('I fly')\n",
    "\n",
    "class MixinWalkable:\n",
    "    def walk(self):\n",
    "        print('I walk')\n",
    "\n",
    "class MixinSwiminable:\n",
    "    def swim(self):\n",
    "        print('I swim')\n",
    "\n",
    "class MixinTalkable:\n",
    "    def talk(self):\n",
    "        print('I talk')"
   ]
  },
  {
   "cell_type": "code",
   "execution_count": 8,
   "id": "0a8fb43e-936e-44b3-a40c-b666fda427e6",
   "metadata": {},
   "outputs": [],
   "source": [
    "class BaseBird(MixinFlyable, MixinWalkable):\n",
    "\n",
    "    def __init__(self, \n",
    "                 wings_lenght_cm: float = 12.5,\n",
    "                 legs_lenght_cm: float = 3.5,\n",
    "                 color: str = 'red'):\n",
    "        self.wings_length_cm = wings_lenght_cm\n",
    "        self.legs_length_cm = legs_lenght_cm\n",
    "        self.color = color\n",
    "        print('Bird Initialized')\n",
    "\n",
    "\n",
    "class RealBird(MixinFlyable, \n",
    "               MixinWalkable, \n",
    "               MixinSwiminable, \n",
    "               MixinTalkable):\n",
    "    pass\n",
    "    \n",
    "    \n",
    "\n",
    "class RubberToy(BaseBird):\n",
    "\n",
    "    def __init__(self,\n",
    "                 toxic: bool = False,\n",
    "                 size_cm3: float = 12,\n",
    "                 color: str = 'yellow',\n",
    "                ):\n",
    "        self.toxic = toxic\n",
    "        self.size_cm3: float = 12\n",
    "        self.color = color\n",
    "\n",
    "    def bounce(self):\n",
    "        print('plums')\n",
    "\n",
    "    def deform(self):\n",
    "        print('Я изменяюсь короч')\n",
    "\n",
    "    def make_noise(self):\n",
    "        print('пи-пи')\n",
    "    \n",
    "                    "
   ]
  },
  {
   "cell_type": "code",
   "execution_count": 9,
   "id": "0a8a7751-bbbb-4f80-9542-d2e883d150e9",
   "metadata": {},
   "outputs": [],
   "source": [
    "class RubberBird(RubberToy,\n",
    "                 BaseBird,\n",
    "                 MixinTalkable):\n",
    "    pass"
   ]
  },
  {
   "cell_type": "code",
   "execution_count": 13,
   "id": "1e7302ba-28e5-4326-bdc4-6078b3ebd0bb",
   "metadata": {},
   "outputs": [
    {
     "name": "stdout",
     "output_type": "stream",
     "text": [
      "I talk\n"
     ]
    }
   ],
   "source": [
    "rub_bird1 = RubberBird()\n",
    "rub_bird1.talk()"
   ]
  },
  {
   "cell_type": "code",
   "execution_count": null,
   "id": "53ccf195-b332-4d5a-a050-722f81326dfd",
   "metadata": {},
   "outputs": [],
   "source": []
  },
  {
   "cell_type": "code",
   "execution_count": null,
   "id": "ded0f726-0b98-4054-bed8-e2f79c642e6a",
   "metadata": {},
   "outputs": [],
   "source": []
  }
 ],
 "metadata": {
  "kernelspec": {
   "display_name": "Python 3 (ipykernel)",
   "language": "python",
   "name": "python3"
  },
  "language_info": {
   "codemirror_mode": {
    "name": "ipython",
    "version": 3
   },
   "file_extension": ".py",
   "mimetype": "text/x-python",
   "name": "python",
   "nbconvert_exporter": "python",
   "pygments_lexer": "ipython3",
   "version": "3.10.4"
  }
 },
 "nbformat": 4,
 "nbformat_minor": 5
}
