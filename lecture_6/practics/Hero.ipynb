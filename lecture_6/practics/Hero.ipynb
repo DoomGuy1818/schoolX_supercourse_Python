{
 "cells": [
  {
   "cell_type": "code",
   "execution_count": 63,
   "id": "58ce0aa4-de45-49c7-a774-967b15e671f3",
   "metadata": {},
   "outputs": [],
   "source": [
    "class Character:\n",
    "    POWER_OF_HIT: int | float = 50\n",
    "    BUY_COST: int | float = 250\n",
    "    \n",
    "\n",
    "    \n",
    "    strenght : int | float = 0\n",
    "    agility : int | float = 0\n",
    "    intell : int | float = 0\n",
    "    eloquence: int | float = 0\n",
    "    def __init__(self,\n",
    "                 strenght: int | float,\n",
    "                 agility: int | float,\n",
    "                 intell: int | float,\n",
    "                 eloquence: int | float,\n",
    "                 \n",
    "    ):\n",
    "        self.strenght = strenght\n",
    "        self.agility = agility\n",
    "        self.intell = intell\n",
    "        self.eloquence = eloquence\n",
    "\n",
    "    def walk(self, speed=300):\n",
    "        print('Я иду со скоростью', speed)\n",
    "\n",
    "    def run(self):\n",
    "        run_speed = ((300  + self.agility * 5) * 6) / 10\n",
    "        print('Я бегу со скоростью', run_speed)\n",
    "\n",
    "    def hit(self):   \n",
    "        power_of_hit = (Character.POWER_OF_HIT + self.strenght * 30) * 6 / 10\n",
    "        print('На нах тычку на', power_of_hit)\n",
    "\n",
    "    def trading(self):\n",
    "        discount = (Character.BUY_COST - self.eloquence / 2) * 6 / 10 \n",
    "        print(f'Вообще цена этого {Character.BUY_COST}, но для тебя {discount}')\n",
    "        \n",
    "\n",
    "        "
   ]
  },
  {
   "cell_type": "code",
   "execution_count": 64,
   "id": "bdbbe190-1bb2-47b1-a56d-16d538319692",
   "metadata": {},
   "outputs": [],
   "source": [
    "class Villian(Character):\n",
    "    SIDE_IN_WAR: str  = 'Сила тёмной абобы ЗЩПЛТОАШПЩЗАТПЗВШ'\n",
    "    def Show_side(self):\n",
    "        print(Villian.SIDE_IN_WAR)"
   ]
  },
  {
   "cell_type": "code",
   "execution_count": 65,
   "id": "7d248dcc-b8b7-4571-a911-81eed0319dd2",
   "metadata": {},
   "outputs": [],
   "source": [
    "class Hero(Character):\n",
    "    SIDE_IN_WAR: str = 'Сила светлого гибона ВПРАГВПВПИ'\n",
    "    def Show_side(self):\n",
    "        print(Hero.SIDE_IN_WAR)"
   ]
  },
  {
   "cell_type": "code",
   "execution_count": 66,
   "id": "9314bca7-dcf3-47a4-94af-9b7cbe041d77",
   "metadata": {},
   "outputs": [],
   "source": [
    "vova1 = Villian(43, 54, 65, 12)"
   ]
  },
  {
   "cell_type": "code",
   "execution_count": 67,
   "id": "55bbbb76-2f51-4447-94da-c6ae88ff57f3",
   "metadata": {},
   "outputs": [
    {
     "name": "stdout",
     "output_type": "stream",
     "text": [
      "Сила тёмной абобы ЗЩПЛТОАШПЩЗАТПЗВШ\n"
     ]
    }
   ],
   "source": [
    "vova1.Show_side()"
   ]
  },
  {
   "cell_type": "code",
   "execution_count": 68,
   "id": "9260696a-e1ab-4bc7-9198-a75a5c5c9c55",
   "metadata": {},
   "outputs": [],
   "source": [
    "class Paladin(Hero):\n",
    "    def blessing(self):\n",
    "        print('Благослови тебя свет!')\n",
    "\n",
    "class Warrior(Hero):\n",
    "    def battle_trance():\n",
    "        print('Я ДЕРУСЬ АААААААААААА')"
   ]
  },
  {
   "cell_type": "code",
   "execution_count": 69,
   "id": "b038d0bc-7ffd-4828-a0f4-997352c05066",
   "metadata": {},
   "outputs": [],
   "source": [
    "class Necromancer(Villian):\n",
    "    def cursing(self):\n",
    "        print('Будь ты проклят!')\n",
    "\n",
    "class Skeleton_Warrior(Villian):\n",
    "    def battle_trance():\n",
    "        print('*Злобный стук костей*')"
   ]
  },
  {
   "cell_type": "code",
   "execution_count": 70,
   "id": "4b610ab7-ebd6-4434-8638-66dd30b0d04a",
   "metadata": {},
   "outputs": [
    {
     "name": "stdout",
     "output_type": "stream",
     "text": [
      "На нах тычку на 930.0\n"
     ]
    }
   ],
   "source": [
    "Vitya = Warrior(50, 65, 23, 76)\n",
    "Vitya.hit()"
   ]
  },
  {
   "cell_type": "code",
   "execution_count": 71,
   "id": "86ea5419-4651-46d2-bd24-2608c795bec8",
   "metadata": {},
   "outputs": [
    {
     "name": "stdout",
     "output_type": "stream",
     "text": [
      "Сила светлого гибона ВПРАГВПВПИ\n"
     ]
    }
   ],
   "source": [
    "Vitya.Show_side()"
   ]
  },
  {
   "cell_type": "code",
   "execution_count": 72,
   "id": "27c537e3-c67e-4867-95a5-75a7c8fc0644",
   "metadata": {},
   "outputs": [
    {
     "name": "stdout",
     "output_type": "stream",
     "text": [
      "Вообще цена этого 250, но для тебя 127.2\n"
     ]
    }
   ],
   "source": [
    "Vitya.trading()"
   ]
  },
  {
   "cell_type": "code",
   "execution_count": null,
   "id": "8d2d9e4b-0962-4712-bb23-7ae1abd00f55",
   "metadata": {},
   "outputs": [],
   "source": []
  },
  {
   "cell_type": "code",
   "execution_count": null,
   "id": "0e91a793-d4c2-43e3-9f23-fcab514f2e8d",
   "metadata": {},
   "outputs": [],
   "source": []
  }
 ],
 "metadata": {
  "kernelspec": {
   "display_name": "Python 3 (ipykernel)",
   "language": "python",
   "name": "python3"
  },
  "language_info": {
   "codemirror_mode": {
    "name": "ipython",
    "version": 3
   },
   "file_extension": ".py",
   "mimetype": "text/x-python",
   "name": "python",
   "nbconvert_exporter": "python",
   "pygments_lexer": "ipython3",
   "version": "3.10.4"
  }
 },
 "nbformat": 4,
 "nbformat_minor": 5
}
