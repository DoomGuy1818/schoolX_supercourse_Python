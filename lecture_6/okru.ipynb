{
 "cells": [
  {
   "cell_type": "code",
   "execution_count": 85,
   "id": "48120521-e3f4-4810-8253-42b4eca68859",
   "metadata": {},
   "outputs": [],
   "source": [
    "class Human: \n",
    "\n",
    "    weight: float | int = 80\n",
    "    height: float | int = 170\n",
    "    name: str | None = None\n",
    "\n",
    "    def __init__(self,\n",
    "                 weight: float | int = 80, \n",
    "                 height: float | int = 190,\n",
    "                 name: str | None = 'Vova',\n",
    "                 \n",
    "    ):\n",
    "        self.weight = weight\n",
    "        self.height = height\n",
    "        self.name = name\n",
    "        \n",
    "    def walk(self, speed: float = 1.0):\n",
    "        print('топ-топ со скоростью:', speed)\n",
    "\n",
    "    def run(self):\n",
    "        if self.weight > 110:\n",
    "            print('Я не могу бегать')\n",
    "             \n",
    "        print('быстрый топ-топ')\n",
    "\n",
    "    def breathe(self):\n",
    "        print('Я дышу')\n",
    "\n"
   ]
  },
  {
   "cell_type": "code",
   "execution_count": 86,
   "id": "b7b9e65d-2ce7-41b6-b50a-aa9480c8ce8a",
   "metadata": {},
   "outputs": [],
   "source": [
    "vova1 = Human(70, 23, 'Vova')"
   ]
  },
  {
   "cell_type": "code",
   "execution_count": 87,
   "id": "47cd24c0-57eb-4c30-9155-59c108881cc8",
   "metadata": {},
   "outputs": [
    {
     "name": "stdout",
     "output_type": "stream",
     "text": [
      "топ-топ со скоростью: 3\n"
     ]
    }
   ],
   "source": [
    "vova1.walk(3)"
   ]
  },
  {
   "cell_type": "code",
   "execution_count": 88,
   "id": "cd1d03b0-9f03-4f8f-b8c8-6a7c980cc5c2",
   "metadata": {},
   "outputs": [],
   "source": [
    "vova1.weight\n",
    "vova1.name = 'Vova'"
   ]
  },
  {
   "cell_type": "code",
   "execution_count": 89,
   "id": "b026a3b2-01c9-49ea-8179-b7ee9015b0f0",
   "metadata": {},
   "outputs": [
    {
     "data": {
      "text/plain": [
       "'Vova'"
      ]
     },
     "execution_count": 89,
     "metadata": {},
     "output_type": "execute_result"
    }
   ],
   "source": [
    "vova1.name"
   ]
  },
  {
   "cell_type": "code",
   "execution_count": 90,
   "id": "5179df76-fed2-4257-a06b-2cbdc535f32d",
   "metadata": {},
   "outputs": [
    {
     "name": "stdout",
     "output_type": "stream",
     "text": [
      "быстрый топ-топ\n"
     ]
    }
   ],
   "source": [
    "vova1.run()"
   ]
  },
  {
   "cell_type": "code",
   "execution_count": 91,
   "id": "8e833e2a-b5e3-4c3b-91a1-51c4acf1c92c",
   "metadata": {},
   "outputs": [],
   "source": [
    "vova2 = Human(324, 543, 'Valerchik')\n"
   ]
  },
  {
   "cell_type": "code",
   "execution_count": 98,
   "id": "7c442059-85fc-47b3-b6ec-0deca70498f2",
   "metadata": {},
   "outputs": [],
   "source": [
    "class HumanWorker(Human):\n",
    "    def work():\n",
    "        print('Я работаю биля')\n",
    "\n",
    "    def walk(self, speed = 0.5):\n",
    "        print('Я иду загруженный')\n",
    "\n",
    "    def run(self):\n",
    "        print(\"Я не могу этого сделать\")"
   ]
  },
  {
   "cell_type": "code",
   "execution_count": 99,
   "id": "5aacc792-b226-4b42-bfbe-c4852c0ff141",
   "metadata": {},
   "outputs": [],
   "source": [
    "vova_worker1 = HumanWorker(3232,4324, 'Valerchik')"
   ]
  },
  {
   "cell_type": "code",
   "execution_count": 100,
   "id": "26074224-47fa-44bb-aba6-0d83ec487fc0",
   "metadata": {},
   "outputs": [
    {
     "name": "stdout",
     "output_type": "stream",
     "text": [
      "Я не могу этого сделать\n"
     ]
    }
   ],
   "source": [
    "vova_worker1.run()"
   ]
  },
  {
   "cell_type": "code",
   "execution_count": null,
   "id": "7013a144-63cd-473b-b7c1-b4ba063499e1",
   "metadata": {},
   "outputs": [],
   "source": []
  }
 ],
 "metadata": {
  "kernelspec": {
   "display_name": "Python 3 (ipykernel)",
   "language": "python",
   "name": "python3"
  },
  "language_info": {
   "codemirror_mode": {
    "name": "ipython",
    "version": 3
   },
   "file_extension": ".py",
   "mimetype": "text/x-python",
   "name": "python",
   "nbconvert_exporter": "python",
   "pygments_lexer": "ipython3",
   "version": "3.10.4"
  }
 },
 "nbformat": 4,
 "nbformat_minor": 5
}
