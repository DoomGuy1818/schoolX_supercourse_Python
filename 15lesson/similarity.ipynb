{
 "cells": [
  {
   "cell_type": "code",
   "execution_count": 11,
   "metadata": {},
   "outputs": [],
   "source": [
    "import spacy as sp\n",
    "from spacy.tokenizer import Tokenizer\n",
    "nlp = sp.load('ru_core_news_sm') \n",
    "nlp.max_length = 1500000"
   ]
  },
  {
   "cell_type": "code",
   "execution_count": 12,
   "metadata": {},
   "outputs": [],
   "source": [
    "with open('Tolstoy Aleksey Nikolaevich. Petr Pervyy - BooksCafe.Net.txt', 'r', encoding = 'utf-8') as book1:\n",
    "    text1 = book1.read()\n",
    "\n",
    "with open('Tolstoy Aleksey Nikolaevich. Zolotoy klyuchik ili priklyucheniya Buratino - BooksCafe.Net.txt', 'r', encoding = 'utf-8') as book2:\n",
    "    text2 = book2.read()\n",
    "\n",
    "with open('Tolstoy Aleksey. Aelita (Zakat Marsa) - BooksCafe.Net.txt', 'r', encoding = 'utf-8') as book3:\n",
    "    text3 = book3.read()\n",
    "\n",
    "with open('Tolstoy Aleksey. Giperboloid inzhenera Garina - BooksCafe.Net.txt', 'r', encoding = 'utf-8') as book4:\n",
    "    text4 = book4.read()\n",
    "\n",
    "with open('Tolstoy Aleksey. Graf Kaliostro - BooksCafe.Net.txt', 'r', encoding = 'utf-8') as book5:\n",
    "    text5 = book5.read()\n",
    "\n",
    "with open('Tolstoy Aleksey. Malchik s palchik - BooksCafe.Net.txt', 'r', encoding = 'utf-8') as book6:\n",
    "    text6 = book6.read()\n",
    "\n",
    "\n"
   ]
  },
  {
   "cell_type": "code",
   "execution_count": 13,
   "metadata": {},
   "outputs": [],
   "source": [
    "doc = nlp(text1)"
   ]
  },
  {
   "cell_type": "code",
   "execution_count": null,
   "metadata": {},
   "outputs": [],
   "source": []
  }
 ],
 "metadata": {
  "kernelspec": {
   "display_name": "Python 3",
   "language": "python",
   "name": "python3"
  },
  "language_info": {
   "codemirror_mode": {
    "name": "ipython",
    "version": 3
   },
   "file_extension": ".py",
   "mimetype": "text/x-python",
   "name": "python",
   "nbconvert_exporter": "python",
   "pygments_lexer": "ipython3",
   "version": "3.10.11"
  }
 },
 "nbformat": 4,
 "nbformat_minor": 2
}
