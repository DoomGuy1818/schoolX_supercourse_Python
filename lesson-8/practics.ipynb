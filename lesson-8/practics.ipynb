{
 "cells": [
  {
   "cell_type": "code",
   "execution_count": 23,
   "metadata": {},
   "outputs": [],
   "source": [
    "class Matrix:\n",
    "    \n",
    "\n",
    "    def __init__(self,\n",
    "                 matrix : list = [[1,2,3],[1,2,3],[1,2,3]]\n",
    "                 \n",
    "\n",
    "    ):\n",
    "        self.matrix = matrix\n",
    "\n",
    "    def __add__(self, other):\n",
    "        \n",
    "        return [\n",
    "            val + other.matrix[i] \n",
    "            for i, val in enumerate(self.matrix)\n",
    "        ]\n",
    "    \n",
    "         \n",
    "    def __repr__(self):\n",
    "        return str(self.matrix)"
   ]
  },
  {
   "cell_type": "code",
   "execution_count": 25,
   "metadata": {},
   "outputs": [
    {
     "name": "stdout",
     "output_type": "stream",
     "text": [
      "[[1, 2, 3, 1, 2, 3], [2, 3, 4, 2, 4, 5], [5, 6, 7, 3, 6, 7]]\n"
     ]
    }
   ],
   "source": [
    "matrix1 = Matrix([[1,2,3],[2,3,4],[5,6,7]])\n",
    "matrix2 = Matrix([[1,2,3],[2,4,5],[3,6,7]])\n",
    "sum = matrix1 + matrix2\n",
    "print(sum)\n",
    "\n",
    "\n"
   ]
  },
  {
   "cell_type": "code",
   "execution_count": null,
   "metadata": {},
   "outputs": [],
   "source": []
  }
 ],
 "metadata": {
  "kernelspec": {
   "display_name": "Python 3",
   "language": "python",
   "name": "python3"
  },
  "language_info": {
   "codemirror_mode": {
    "name": "ipython",
    "version": 3
   },
   "file_extension": ".py",
   "mimetype": "text/x-python",
   "name": "python",
   "nbconvert_exporter": "python",
   "pygments_lexer": "ipython3",
   "version": "3.10.11"
  },
  "orig_nbformat": 4
 },
 "nbformat": 4,
 "nbformat_minor": 2
}
