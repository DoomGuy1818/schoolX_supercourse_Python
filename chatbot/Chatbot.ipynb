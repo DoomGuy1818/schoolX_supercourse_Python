{
 "cells": [
  {
   "cell_type": "code",
   "execution_count": 33,
   "id": "ea8a87ce-f4e3-4320-8a1b-d073f114167a",
   "metadata": {},
   "outputs": [
    {
     "name": "stderr",
     "output_type": "stream",
     "text": [
      "[nltk_data] Downloading package stopwords to\n",
      "[nltk_data]     C:\\Users\\asdsf\\AppData\\Roaming\\nltk_data...\n",
      "[nltk_data]   Package stopwords is already up-to-date!\n"
     ]
    }
   ],
   "source": [
    "import nltk\n",
    "import numpy as np\n",
    "import pandas as pd\n",
    "from nltk.corpus import stopwords\n",
    "from sklearn.feature_extraction.text import TfidfVectorizer\n",
    "from sklearn.metrics.pairwise import cosine_similarity\n",
    "from nltk.stem.porter import PorterStemmer\n",
    "nltk.download('stopwords')\n",
    "stop_words = set(stopwords.words('russian'))"
   ]
  },
  {
   "cell_type": "code",
   "execution_count": 34,
   "id": "84fd6d70-d85c-4288-a906-162a59331f53",
   "metadata": {},
   "outputs": [],
   "source": [
    "questions = [\n",
    "    \"Привет, как дела?\",\n",
    "    \"Какие у тебя хобби?\",\n",
    "    \"Что ты думаешь о искусственном интеллекте?\",\n",
    "    \"Какой твой любимый цвет?\"\n",
    "]\n",
    "\n",
    "answers = [\n",
    "    \"Привет! У меня все отлично, спасибо!\",\n",
    "    \"Я люблю общаться с людьми и узнавать новые вещи.\",\n",
    "    \"Искусственный интеллект очень увлекательная тема, не так ли?\",\n",
    "    \"Мой любимый цвет - синий.\"\n",
    "]"
   ]
  },
  {
   "cell_type": "code",
   "execution_count": 35,
   "id": "49d07a2a-1395-4524-a31f-d5eb4e08d5dc",
   "metadata": {},
   "outputs": [],
   "source": [
    "vectorizer = TfidfVectorizer()\n",
    "X = vectorizer.fit_transform(questions)"
   ]
  },
  {
   "cell_type": "code",
   "execution_count": 36,
   "id": "524e5e80-e258-4af1-b0ad-43abd85a019a",
   "metadata": {},
   "outputs": [],
   "source": [
    "def get_response(user_question):\n",
    "    question_tfidf = vectorizer.transform([user_question])\n",
    "    similarities = cosine_similarity(question_tfidf, X)\n",
    "    index = np.argmax(similarities)\n",
    "    return answers[index]\n",
    "\n"
   ]
  },
  {
   "cell_type": "code",
   "execution_count": 37,
   "id": "63f5ae15-46c4-4c91-bc41-6c9278a926cb",
   "metadata": {},
   "outputs": [
    {
     "name": "stdout",
     "output_type": "stream",
     "text": [
      "Привет! У меня все отлично, спасибо!\n"
     ]
    }
   ],
   "source": [
    "user_question = \"Как твои дела?\"\n",
    "response = get_response(user_question)\n",
    "print(response)"
   ]
  },
  {
   "cell_type": "code",
   "execution_count": null,
   "id": "4e3c602a-9967-4de6-a413-cfc1b51184bf",
   "metadata": {},
   "outputs": [],
   "source": []
  },
  {
   "cell_type": "code",
   "execution_count": null,
   "id": "87292dbb-7f46-498d-bf22-b530ba45541a",
   "metadata": {},
   "outputs": [],
   "source": []
  },
  {
   "cell_type": "code",
   "execution_count": null,
   "id": "6913ee8b-070b-4272-9256-a60a19441d4e",
   "metadata": {},
   "outputs": [],
   "source": []
  },
  {
   "cell_type": "code",
   "execution_count": null,
   "id": "a38819ed-1a88-4652-ba58-27714a8d5efa",
   "metadata": {},
   "outputs": [],
   "source": []
  }
 ],
 "metadata": {
  "kernelspec": {
   "display_name": "Python 3 (ipykernel)",
   "language": "python",
   "name": "python3"
  },
  "language_info": {
   "codemirror_mode": {
    "name": "ipython",
    "version": 3
   },
   "file_extension": ".py",
   "mimetype": "text/x-python",
   "name": "python",
   "nbconvert_exporter": "python",
   "pygments_lexer": "ipython3",
   "version": "3.10.11"
  }
 },
 "nbformat": 4,
 "nbformat_minor": 5
}
