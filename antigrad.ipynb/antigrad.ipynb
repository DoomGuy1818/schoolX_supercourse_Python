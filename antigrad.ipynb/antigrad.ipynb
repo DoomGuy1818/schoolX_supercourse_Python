{
 "cells": [
  {
   "cell_type": "code",
   "execution_count": 1,
   "metadata": {},
   "outputs": [
    {
     "name": "stdout",
     "output_type": "stream",
     "text": [
      "Note: you may need to restart the kernel to use updated packages.\n"
     ]
    },
    {
     "name": "stderr",
     "output_type": "stream",
     "text": [
      "\n",
      "[notice] A new release of pip is available: 23.0.1 -> 23.2.1\n",
      "[notice] To update, run: C:\\Users\\asdsf\\AppData\\Local\\Microsoft\\WindowsApps\\PythonSoftwareFoundation.Python.3.10_qbz5n2kfra8p0\\python.exe -m pip install --upgrade pip\n"
     ]
    },
    {
     "name": "stdout",
     "output_type": "stream",
     "text": [
      "Collecting sympy\n",
      "  Downloading sympy-1.12-py3-none-any.whl (5.7 MB)\n",
      "     ---------------------------------------- 0.0/5.7 MB ? eta -:--:--\n",
      "     ---------------------------------------- 0.0/5.7 MB 653.6 kB/s eta 0:00:09\n",
      "      --------------------------------------- 0.1/5.7 MB 1.3 MB/s eta 0:00:05\n",
      "     - -------------------------------------- 0.2/5.7 MB 1.8 MB/s eta 0:00:04\n",
      "     -- ------------------------------------- 0.4/5.7 MB 1.9 MB/s eta 0:00:03\n",
      "     --- ------------------------------------ 0.6/5.7 MB 2.4 MB/s eta 0:00:03\n",
      "     ------ --------------------------------- 0.9/5.7 MB 3.1 MB/s eta 0:00:02\n",
      "     --------- ------------------------------ 1.4/5.7 MB 4.2 MB/s eta 0:00:02\n",
      "     ---------------- ----------------------- 2.4/5.7 MB 6.5 MB/s eta 0:00:01\n",
      "     --------------------- ------------------ 3.1/5.7 MB 7.3 MB/s eta 0:00:01\n",
      "     ------------------------ --------------- 3.6/5.7 MB 7.8 MB/s eta 0:00:01\n",
      "     ------------------------- -------------- 3.7/5.7 MB 7.1 MB/s eta 0:00:01\n",
      "     ------------------------- -------------- 3.7/5.7 MB 7.1 MB/s eta 0:00:01\n",
      "     -------------------------- ------------- 3.9/5.7 MB 6.7 MB/s eta 0:00:01\n",
      "     ---------------------------- ----------- 4.0/5.7 MB 6.3 MB/s eta 0:00:01\n",
      "     ------------------------------ --------- 4.4/5.7 MB 6.3 MB/s eta 0:00:01\n",
      "     -------------------------------- ------- 4.7/5.7 MB 6.3 MB/s eta 0:00:01\n",
      "     --------------------------------- ------ 4.8/5.7 MB 6.1 MB/s eta 0:00:01\n",
      "     ----------------------------------- ---- 5.1/5.7 MB 5.9 MB/s eta 0:00:01\n",
      "     ------------------------------------- -- 5.4/5.7 MB 6.0 MB/s eta 0:00:01\n",
      "     ---------------------------------------  5.7/5.7 MB 6.0 MB/s eta 0:00:01\n",
      "     ---------------------------------------  5.7/5.7 MB 6.0 MB/s eta 0:00:01\n",
      "     ---------------------------------------  5.7/5.7 MB 6.0 MB/s eta 0:00:01\n",
      "     ---------------------------------------- 5.7/5.7 MB 5.4 MB/s eta 0:00:00\n",
      "Collecting mpmath>=0.19\n",
      "  Downloading mpmath-1.3.0-py3-none-any.whl (536 kB)\n",
      "     ---------------------------------------- 0.0/536.2 kB ? eta -:--:--\n",
      "     ------------------------------------- 536.2/536.2 kB 11.4 MB/s eta 0:00:00\n",
      "Installing collected packages: mpmath, sympy\n",
      "Successfully installed mpmath-1.3.0 sympy-1.12\n"
     ]
    }
   ],
   "source": [
    "%pip install sympy"
   ]
  },
  {
   "cell_type": "code",
   "execution_count": 1,
   "metadata": {},
   "outputs": [],
   "source": [
    "import sympy as sp"
   ]
  },
  {
   "cell_type": "code",
   "execution_count": 2,
   "metadata": {},
   "outputs": [],
   "source": [
    "x = sp.symbols('x')"
   ]
  },
  {
   "cell_type": "code",
   "execution_count": 3,
   "metadata": {},
   "outputs": [],
   "source": [
    "equantion = (x-10)**2"
   ]
  },
  {
   "cell_type": "code",
   "execution_count": 4,
   "metadata": {},
   "outputs": [
    {
     "data": {
      "text/latex": [
       "$\\displaystyle \\left(x - 10\\right)^{2}$"
      ],
      "text/plain": [
       "(x - 10)**2"
      ]
     },
     "execution_count": 4,
     "metadata": {},
     "output_type": "execute_result"
    }
   ],
   "source": [
    "equantion"
   ]
  },
  {
   "cell_type": "code",
   "execution_count": 7,
   "metadata": {},
   "outputs": [
    {
     "data": {
      "text/latex": [
       "$\\displaystyle 2 x - 20$"
      ],
      "text/plain": [
       "2*x - 20"
      ]
     },
     "execution_count": 7,
     "metadata": {},
     "output_type": "execute_result"
    }
   ],
   "source": [
    "sp.diff(equantion)"
   ]
  },
  {
   "cell_type": "code",
   "execution_count": 9,
   "metadata": {},
   "outputs": [],
   "source": [
    "def antigrad(x):\n",
    "    return 2 * x - 20"
   ]
  },
  {
   "cell_type": "code",
   "execution_count": 17,
   "metadata": {},
   "outputs": [
    {
     "data": {
      "text/plain": [
       "10.1024"
      ]
     },
     "execution_count": 17,
     "metadata": {},
     "output_type": "execute_result"
    }
   ],
   "source": [
    "lr = 0.7\n",
    "x = 0\n",
    "\n",
    "\n",
    "\n",
    "    \n",
    "for i in range(5):\n",
    "    x = x - lr * antigrad(x)\n",
    "\n",
    "x\n",
    " \n"
   ]
  },
  {
   "cell_type": "code",
   "execution_count": null,
   "metadata": {},
   "outputs": [],
   "source": []
  }
 ],
 "metadata": {
  "kernelspec": {
   "display_name": "Python 3",
   "language": "python",
   "name": "python3"
  },
  "language_info": {
   "codemirror_mode": {
    "name": "ipython",
    "version": 3
   },
   "file_extension": ".py",
   "mimetype": "text/x-python",
   "name": "python",
   "nbconvert_exporter": "python",
   "pygments_lexer": "ipython3",
   "version": "3.10.11"
  }
 },
 "nbformat": 4,
 "nbformat_minor": 2
}
