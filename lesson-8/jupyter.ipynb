{
 "cells": [
  {
   "cell_type": "code",
   "execution_count": 28,
   "metadata": {},
   "outputs": [],
   "source": [
    "class Mosquitos:\n",
    "    damage_per_mosquito: float = 1.7\n",
    "    mosquitos_in_cloud = 5\n",
    "\n",
    "    damage = damage_per_mosquito * mosquitos_in_cloud\n",
    "    \n",
    "    \n",
    "    def __init__(self, \n",
    "                 damage_per_mosquito1: float = 1.7, \n",
    "                 mosquitos_in_cloud1: int = 5\n",
    "    ):\n",
    "        \n",
    "        if damage_per_mosquito1 is not None:\n",
    "            self.damage_per_mosquito = damage_per_mosquito1\n",
    "\n",
    "        if mosquitos_in_cloud1 is not None:\n",
    "            self.mosquitos_in_cloud = mosquitos_in_cloud1\n",
    "        \n",
    "        self.damage = self.damage_per_mosquito * self.mosquitos_in_cloud\n"
   ]
  },
  {
   "cell_type": "code",
   "execution_count": 29,
   "metadata": {},
   "outputs": [
    {
     "data": {
      "text/plain": [
       "8.5"
      ]
     },
     "execution_count": 29,
     "metadata": {},
     "output_type": "execute_result"
    }
   ],
   "source": [
    "mcloud1 = Mosquitos()\n",
    "\n",
    "mcloud1.damage\n"
   ]
  },
  {
   "cell_type": "code",
   "execution_count": 30,
   "metadata": {},
   "outputs": [
    {
     "data": {
      "text/plain": [
       "430"
      ]
     },
     "execution_count": 30,
     "metadata": {},
     "output_type": "execute_result"
    }
   ],
   "source": [
    "mcloud2 = Mosquitos(\n",
    "    damage_per_mosquito1 = 10,\n",
    "    mosquitos_in_cloud1 = 43\n",
    ")\n",
    "mcloud2.damage"
   ]
  },
  {
   "cell_type": "code",
   "execution_count": 34,
   "metadata": {},
   "outputs": [
    {
     "name": "stdout",
     "output_type": "stream",
     "text": [
      "[[1, 2, 3], [4, 5, 6], [7, 8, 9]]\n"
     ]
    }
   ],
   "source": [
    "class Matrix1():\n",
    "    matrix : list = [[1, 2, 3], [4, 5, 6], [7, 8, 9]]\n",
    "\n",
    "    def __init__(self, \n",
    "                 matrix,\n",
    "    ):\n",
    "        self.matrix = matrix      \n",
    "     \n"
   ]
  },
  {
   "cell_type": "code",
   "execution_count": null,
   "metadata": {},
   "outputs": [],
   "source": []
  }
 ],
 "metadata": {
  "kernelspec": {
   "display_name": "Python 3",
   "language": "python",
   "name": "python3"
  },
  "language_info": {
   "codemirror_mode": {
    "name": "ipython",
    "version": 3
   },
   "file_extension": ".py",
   "mimetype": "text/x-python",
   "name": "python",
   "nbconvert_exporter": "python",
   "pygments_lexer": "ipython3",
   "version": "3.10.11"
  },
  "orig_nbformat": 4
 },
 "nbformat": 4,
 "nbformat_minor": 2
}
