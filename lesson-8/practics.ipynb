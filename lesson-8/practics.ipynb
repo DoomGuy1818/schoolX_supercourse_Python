{
 "cells": [
  {
   "cell_type": "code",
   "execution_count": 3,
   "metadata": {},
   "outputs": [
    {
     "name": "stdout",
     "output_type": "stream",
     "text": [
      "Note: you may need to restart the kernel to use updated packages.\n"
     ]
    },
    {
     "name": "stderr",
     "output_type": "stream",
     "text": [
      "\n",
      "[notice] A new release of pip is available: 23.0.1 -> 23.2.1\n",
      "[notice] To update, run: C:\\Users\\asdsf\\AppData\\Local\\Microsoft\\WindowsApps\\PythonSoftwareFoundation.Python.3.10_qbz5n2kfra8p0\\python.exe -m pip install --upgrade pip\n"
     ]
    }
   ],
   "source": [
    "%pip install -q ipytest pytest "
   ]
  },
  {
   "cell_type": "code",
   "execution_count": 4,
   "metadata": {},
   "outputs": [],
   "source": [
    "import ipytest\n",
    "import pytest\n",
    "\n",
    "ipytest.autoconfig()"
   ]
  },
  {
   "cell_type": "code",
   "execution_count": 5,
   "metadata": {},
   "outputs": [
    {
     "name": "stdout",
     "output_type": "stream",
     "text": [
      "Note: you may need to restart the kernel to use updated packages.\n"
     ]
    },
    {
     "name": "stderr",
     "output_type": "stream",
     "text": [
      "\n",
      "[notice] A new release of pip is available: 23.0.1 -> 23.2.1\n",
      "[notice] To update, run: C:\\Users\\asdsf\\AppData\\Local\\Microsoft\\WindowsApps\\PythonSoftwareFoundation.Python.3.10_qbz5n2kfra8p0\\python.exe -m pip install --upgrade pip\n"
     ]
    }
   ],
   "source": [
    "%pip install -Uq numpy"
   ]
  },
  {
   "cell_type": "code",
   "execution_count": 6,
   "metadata": {},
   "outputs": [],
   "source": [
    "import numpy as np"
   ]
  },
  {
   "cell_type": "code",
   "execution_count": 13,
   "metadata": {},
   "outputs": [],
   "source": [
    "class Matrix:\n",
    "    def __init__(self, matrix):\n",
    "        self.matrix = matrix\n",
    "\n",
    "    def __add__(self, other):\n",
    "        if isinstance(other, Matrix):\n",
    "            if len(self.matrix) == len(other.matrix) and len(self.matrix[0]) == len(other.matrix[0]):\n",
    "                result = [[0] * len(self.matrix[0]) for _ in range(len(self.matrix))]\n",
    "                for i in range(len(self.matrix)):\n",
    "                    for j in range(len(self.matrix[0])):\n",
    "                        result[i][j] = self.matrix[i][j] + other.matrix[i][j]\n",
    "                return Matrix(result)\n",
    "            else:\n",
    "                raise ValueError(\"Размерности матриц не совпадают\")\n",
    "        elif isinstance(other, (int, float)):\n",
    "            result = [[0] * len(self.matrix[0]) for _ in range(len(self.matrix))]\n",
    "            for i in range(len(self.matrix)):\n",
    "                for j in range(len(self.matrix[0])):\n",
    "                    result[i][j] = self.matrix[i][j] + other\n",
    "            return Matrix(result)\n",
    "        else:\n",
    "            raise TypeError(\"Аргумент должен быть объектом класса Matrix, int или float\")\n",
    "\n",
    "    def __sub__(self, other):\n",
    "        if isinstance(other, Matrix):\n",
    "            if len(self.matrix) == len(other.matrix) and len(self.matrix[0]) == len(other.matrix[0]):\n",
    "                result = [[0] * len(self.matrix[0]) for _ in range(len(self.matrix))]\n",
    "                for i in range(len(self.matrix)):\n",
    "                    for j in range(len(self.matrix[0])):\n",
    "                        result[i][j] = self.matrix[i][j] - other.matrix[i][j]\n",
    "                return Matrix(result)\n",
    "            else:\n",
    "                raise ValueError(\"Размерности матриц не совпадают\")\n",
    "        elif isinstance(other, (int, float)):\n",
    "            result = [[0] * len(self.matrix[0]) for _ in range(len(self.matrix))]\n",
    "            for i in range(len(self.matrix)):\n",
    "                for j in range(len(self.matrix[0])):\n",
    "                    result[i][j] = self.matrix[i][j] - other\n",
    "            return Matrix(result)\n",
    "        else:\n",
    "            raise TypeError(\"Аргумент должен быть объектом класса Matrix, int или float\")\n",
    "\n",
    "    def __repr__(self):\n",
    "        return repr(self.matrix)\n",
    "\n",
    "    def __matmul__(self, other):\n",
    "        if isinstance(other, (int, float)):\n",
    "            result = [[0] * len(self.matrix[0]) for _ in range(len(self.matrix))]\n",
    "            for i in range(len(self.matrix)):\n",
    "                for j in range(len(self.matrix[0])):\n",
    "                    result[i][j] = self.matrix[i][j] * other\n",
    "            return Matrix(result)\n",
    "        \n",
    "        elif isinstance(other, Matrix):\n",
    "            if len(self.matrix[0]) == len(other.matrix):\n",
    "                result = [[0] * len(other.matrix[0]) for _ in range(len(self.matrix))]\n",
    "\n",
    "                for i in range(len(self.matrix)):\n",
    "                    for j in range(len(other.matrix[0])):\n",
    "                        for k in range(len(other.matrix)):\n",
    "\n",
    "                            result[i][j] += self.matrix[i][k] * other.matrix[k][j]\n",
    "\n",
    "                return Matrix(result)\n",
    "            \n",
    "            else:\n",
    "                raise ValueError(\"Количество столбцов первой матрицы не совпадает с количеством строк второй матрицы\")\n",
    "            \n",
    "        else:\n",
    "            raise TypeError(\"Аргумент должен быть числом или объектом класса Matrix\")\n",
    "\n",
    "    def __truediv__(self, other):\n",
    "        if isinstance(other, Matrix):\n",
    "            \n",
    "            if len(self.matrix) != len(other.matrix) or len(self.matrix[0]) != len(other.matrix[0]):\n",
    "                raise ValueError(\"Несовместимые размеры матриц\")\n",
    "\n",
    "            result = [[0 for _ in range(len(self.matrix[0]))] for _ in range(len(self.matrix))]\n",
    "\n",
    "            for i in range(len(self.matrix)):\n",
    "                for j in range(len(self.matrix[0])):\n",
    "                    result[i][j] = self.matrix[i][j] / other.matrix[i][j]\n",
    "\n",
    "            return Matrix(result)\n",
    "\n",
    "        elif isinstance(other, (int, float)):\n",
    "            result = [[0 for _ in range(len(self.matrix[0]))] for _ in range(len(self.matrix))]\n",
    "\n",
    "            for i in range(len(self.matrix)):\n",
    "                for j in range(len(self.matrix[0])):\n",
    "                    result[i][j] = self.matrix[i][j] / other\n",
    "\n",
    "            return Matrix(result)\n",
    "\n",
    "        else:\n",
    "            raise ValueError(\"Аргумент должен быть объектом класса Matrix или числом\")\n",
    "        \n",
    "\n",
    "    def __mul__(self, other):\n",
    "        if isinstance(other, Matrix):\n",
    "            \n",
    "            if len(self.matrix) != len(other.matrix) or len(self.matrix[0]) != len(other.matrix[0]):\n",
    "                raise ValueError(\"Несовместимые размеры матриц\")\n",
    "\n",
    "            result = [[0 for _ in range(len(self.matrix[0]))] for _ in range(len(self.matrix))]\n",
    "\n",
    "            for i in range(len(self.matrix)):\n",
    "                for j in range(len(self.matrix[0])):\n",
    "                    result[i][j] = self.matrix[i][j] * other.matrix[i][j]\n",
    "\n",
    "            return Matrix(result)\n",
    "\n",
    "        elif isinstance(other, (int, float)):\n",
    "            result = [[0 for _ in range(len(self.matrix[0]))] for _ in range(len(self.matrix))]\n",
    "\n",
    "            for i in range(len(self.matrix)):\n",
    "                for j in range(len(self.matrix[0])):\n",
    "                    result[i][j] = self.matrix[i][j] * other\n",
    "\n",
    "            return Matrix(result)\n",
    "\n",
    "        else:\n",
    "            raise ValueError(\"Аргумент должен быть объектом класса Matrix или числом\")\n",
    "        \n",
    "    def T(self):\n",
    "        _len = len(self.matrix)\n",
    "        t_matrix = [[0 for i in range(_len)] for i in range(_len)]\n",
    "\n",
    "        for i in range(_len):\n",
    "            for j in range(_len):\n",
    "                t_matrix[j][i] = self.matrix[i][j]\n",
    "\n",
    "        return Matrix(t_matrix)\n",
    "        \n",
    "\n",
    "    def __eq__(self, other):\n",
    "        result_matrix = []\n",
    "        \n",
    "        for i in range(len(self.matrix)):\n",
    "            row = []\n",
    "            for j in range(len(self.matrix[0])):\n",
    "                row.append((self.matrix[i][j]) == (other.matrix[i][j]))\n",
    "            result_matrix.append(row)\n",
    "        return Matrix(result_matrix)"
   ]
  },
  {
   "cell_type": "code",
   "execution_count": 14,
   "metadata": {},
   "outputs": [
    {
     "name": "stdout",
     "output_type": "stream",
     "text": [
      "\u001b[32m.\u001b[0m\u001b[32m.\u001b[0m\u001b[32m.\u001b[0m\u001b[32m.\u001b[0m\u001b[32m.\u001b[0m\u001b[32m.\u001b[0m\u001b[32m.\u001b[0m\u001b[32m.\u001b[0m\u001b[32m.\u001b[0m\u001b[32m.\u001b[0m\u001b[32m                                                                                   [100%]\u001b[0m\n",
      "\u001b[32m\u001b[32m\u001b[1m10 passed\u001b[0m\u001b[32m in 0.03s\u001b[0m\u001b[0m\n"
     ]
    }
   ],
   "source": [
    "%%ipytest\n",
    "\n",
    "matrix1 = Matrix([[1,2,3],[3,4,5],[6,7,8]])\n",
    "matrix2 = Matrix([[1,2,3],[3,5,6],[7,8,9]])\n",
    "\n",
    "\n",
    "@pytest.mark.parametrize(\"matrix1,matrix2\", [[matrix1, matrix2]])\n",
    "def test_matrix_add_matrix(matrix1: Matrix, matrix2: Matrix):\n",
    "    assert (\n",
    "        (np.array((matrix1 + matrix2).matrix) == (np.array(matrix1.matrix) + np.array(matrix2.matrix))).all()\n",
    "    ), 'add section with matrices is not working right'\n",
    "\n",
    "@pytest.mark.parametrize(\"matrix1,number\", [[matrix1, 13.2]])\n",
    "def test_matrix_add_number(matrix1: Matrix, number: int | float):\n",
    "    assert (\n",
    "        (np.array((matrix1 + number).matrix) == np.array(matrix1.matrix) + number).all()\n",
    "    ), 'add section with matrix and number is not working right'\n",
    "\n",
    "@pytest.mark.parametrize(\"matrix1,matrix2\", [[matrix1, matrix2]])\n",
    "def test_matrix_sub_matrix(matrix1: Matrix, matrix2: Matrix):\n",
    "    assert (\n",
    "        (np.array((matrix1 - matrix2).matrix) == np.array(matrix1.matrix) - np.array(matrix2.matrix)).all()\n",
    "    ), 'sub section with matrices is not working right'\n",
    "\n",
    "@pytest.mark.parametrize(\"matrix1,number\", [[matrix1, 12.2]])    \n",
    "def test_matrix_sub_number(matrix1: Matrix, number: int | float):\n",
    "    assert (\n",
    "        (np.array((matrix1 - number).matrix) == np.array(matrix1.matrix) - number).all()\n",
    "    ), 'sub section with matrix and number is not working right'\n",
    "\n",
    "@pytest.mark.parametrize(\"matrix1\", [matrix1])    \n",
    "def test_matrix_transpose(matrix1: Matrix):\n",
    "    assert (\n",
    "        (np.array(matrix1.T().matrix) == np.array(matrix1.matrix).T).all()\n",
    "    ), 'transpose section is not working right'\n",
    "    \n",
    "# -----------------------------------------\n",
    "\n",
    "@pytest.mark.parametrize(\"matrix1,matrix2\", [[matrix1, matrix2]])\n",
    "def test_matrix_mul_matrix(matrix1: Matrix, matrix2: Matrix):\n",
    "    assert (\n",
    "        (np.array((matrix1 * matrix2).matrix) == np.array(matrix1.matrix) * np.array(matrix2.matrix)).all()\n",
    "    ), 'mul section with matrices is not working right'\n",
    "\n",
    "@pytest.mark.parametrize(\"matrix1,number\", [[matrix1, 13]])\n",
    "def test_matrix_mul_number(matrix1: Matrix, number: int | float):\n",
    "    assert (\n",
    "        (np.array((matrix1 * number).matrix) == np.array(matrix1.matrix) * number).all()\n",
    "    ), 'mul section with matrix and number is not working right'\n",
    "\n",
    "@pytest.mark.parametrize(\"matrix1,matrix2\", [[matrix1, matrix2]])    \n",
    "def test_matrix_div_matrix(matrix1: Matrix, matrix2: Matrix):\n",
    "    assert (\n",
    "        (np.array((matrix1 / matrix2).matrix) == np.array(matrix1.matrix) / np.array(matrix2.matrix)).all()\n",
    "    ), 'div section with matrices is not working right'\n",
    "\n",
    "@pytest.mark.parametrize(\"matrix1,number\", [[matrix1, 2]])    \n",
    "def test_matrix_div_number(matrix1: Matrix, number: int | float):\n",
    "    assert (\n",
    "        (np.array((matrix1 / number).matrix) == np.array(matrix1.matrix) / number).all()\n",
    "    ), 'div section with matrix and number is not working right'\n",
    "\n",
    "@pytest.mark.parametrize(\"matrix1,matrix2\", [[matrix1, matrix2.T()]])    \n",
    "def test_matrix_matmul_matrix(matrix1: Matrix, matrix2: Matrix):\n",
    "    assert(\n",
    "        (np.array((matrix1 @ matrix2).matrix) == np.array(matrix1.matrix) @ np.array(matrix2.matrix)).all()\n",
    "    ), 'matmul section is not working right, and don\\'t forget about T() if needed'\n"
   ]
  },
  {
   "cell_type": "code",
   "execution_count": 9,
   "metadata": {},
   "outputs": [
    {
     "name": "stdout",
     "output_type": "stream",
     "text": [
      "[[10, 13], [22, 29]]\n",
      "-----------------\n",
      "[[14, 28, 34], [26, 52, 64], [38, 76, 94]]\n",
      "-----------------\n",
      "[[2, 6], [12, 20]]\n",
      "-----------------\n",
      "[[1, 4], [2, 5]]\n",
      "-----------------\n",
      "[[2, 4, 6], [5, 8, 10], [8, 12, 14]]\n"
     ]
    }
   ],
   "source": [
    "matrix1 = Matrix([[1,2,3],[3,4,5],[5,6,7]])\n",
    "matrix2 = Matrix([[1,2,3],[2,4,5],[3,6,7]])\n",
    "matrix3 = Matrix([[1,2,3],[4,5,6]])\n",
    "\n",
    "matrix4 = Matrix([[1,2],[3,4]])\n",
    "matrix5 = Matrix([[2,3],[4,5]])\n",
    "\n",
    "\n",
    "true_div = matrix4 / matrix5\n",
    "matmul = matrix1 @ matrix2\n",
    "mul = matrix4 * matrix5\n",
    "sum = matrix1 + matrix2\n",
    "\n",
    "print(true_div)\n",
    "print(\"-----------------\")\n",
    "print(matmul)\n",
    "print(\"-----------------\")\n",
    "print(mul)\n",
    "print(\"-----------------\")\n",
    "print(matrix3.T())\n",
    "print(\"-----------------\")\n",
    "print(sum)\n",
    "\n",
    "\n"
   ]
  },
  {
   "cell_type": "code",
   "execution_count": 10,
   "metadata": {},
   "outputs": [
    {
     "name": "stdout",
     "output_type": "stream",
     "text": [
      "[[1, 3, 1], [2, 4, 2], [3, 5, 3]]\n",
      "[[10 18 24]\n",
      " [20 36 48]\n",
      " [10 18 24]]\n",
      "[[10, 18, 24], [20, 36, 48], [10, 18, 24]]\n"
     ]
    }
   ],
   "source": [
    "matrix1 = Matrix([[1, 2, 3],[3, 4, 5],[1, 2, 3]])\n",
    "matrix2 = Matrix([[1, 2, 3],[3, 5, 6],[1, 2, 3]])\n",
    "res = matrix1 @ matrix2 \n",
    "print(matrix1.T())\n",
    "\n",
    "print((np.array(matrix1.matrix) @ np.array(matrix2.matrix)))\n",
    "print(res)"
   ]
  },
  {
   "cell_type": "code",
   "execution_count": 11,
   "metadata": {},
   "outputs": [
    {
     "name": "stdout",
     "output_type": "stream",
     "text": [
      "[[ 1  4  9]\n",
      " [ 9 20 30]\n",
      " [ 1  4  9]]\n",
      "[[10 18 24]\n",
      " [20 36 48]\n",
      " [10 18 24]]\n",
      "[[1, 4, 9], [9, 20, 30], [1, 4, 9]]\n",
      "[[10, 18, 24], [20, 36, 48], [10, 18, 24]]\n"
     ]
    }
   ],
   "source": [
    "print(np.array(matrix1.matrix) * np.array(matrix2.matrix))\n",
    "print(np.array(matrix1.matrix) @ np.array(matrix2.matrix))\n",
    "print((matrix1 * matrix2).matrix)\n",
    "print((matrix1 @ matrix2))"
   ]
  },
  {
   "cell_type": "code",
   "execution_count": 12,
   "metadata": {},
   "outputs": [
    {
     "name": "stdout",
     "output_type": "stream",
     "text": [
      "[[ 1  4  9]\n",
      " [ 9 20 30]\n",
      " [ 1  4  9]]\n",
      "\n",
      "[[ 1  4  9]\n",
      " [ 9 20 30]\n",
      " [ 1  4  9]]\n"
     ]
    }
   ],
   "source": [
    "print(np.array((matrix1 * matrix2).matrix))\n",
    "print()\n",
    "print(np.array(matrix1.matrix) * np.array(matrix2.matrix))"
   ]
  },
  {
   "cell_type": "code",
   "execution_count": null,
   "metadata": {},
   "outputs": [],
   "source": []
  }
 ],
 "metadata": {
  "kernelspec": {
   "display_name": "Python 3",
   "language": "python",
   "name": "python3"
  },
  "language_info": {
   "codemirror_mode": {
    "name": "ipython",
    "version": 3
   },
   "file_extension": ".py",
   "mimetype": "text/x-python",
   "name": "python",
   "nbconvert_exporter": "python",
   "pygments_lexer": "ipython3",
   "version": "3.10.11"
  },
  "orig_nbformat": 4
 },
 "nbformat": 4,
 "nbformat_minor": 2
}
