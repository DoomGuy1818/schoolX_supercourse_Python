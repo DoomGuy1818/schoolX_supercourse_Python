{
 "cells": [
  {
   "cell_type": "code",
   "execution_count": 37,
   "id": "04abfd03-9025-4b65-9d89-65c15d08c449",
   "metadata": {},
   "outputs": [],
   "source": [
    "class Playable:\n",
    "    def mixinWalking(self):\n",
    "        print('I walking')\n",
    "\n",
    "    def mixinDying(self):\n",
    "        print('I dying...')\n",
    "\n",
    "    def mixinSpawn(self):\n",
    "        print('I\"m alive')"
   ]
  },
  {
   "cell_type": "code",
   "execution_count": 48,
   "id": "35a5e177-f0b1-4c4e-b872-139c8b4255d2",
   "metadata": {},
   "outputs": [],
   "source": [
    "class FunkoPop:\n",
    "    def fall(self):\n",
    "        print('Laying in floor')\n",
    "    \n",
    "    def melting(self):\n",
    "        print(\"OH NO, I'M MELTING!!\")\n",
    "\n",
    "    def staying(self):\n",
    "        print('Nothing happends')"
   ]
  },
  {
   "cell_type": "code",
   "execution_count": 49,
   "id": "8014e39d-69c9-420e-9851-9fd52bcbeb98",
   "metadata": {},
   "outputs": [],
   "source": [
    "class Character():\n",
    "    def __init__(self,\n",
    "                 name: str = \"Евгений\",\n",
    "                 secondName: str | None = None,\n",
    "                 naked : bool = False,\n",
    "                 color : str = 'White',\n",
    "\n",
    "    ):\n",
    "        self.name = name\n",
    "        self.secondName = secondName\n",
    "        self.naked = naked\n",
    "        self.color = color\n",
    "    \n",
    "class Toy(Character):\n",
    "    \n",
    "    def __init__(self,\n",
    "                 toxic: bool = False,\n",
    "                 size_cm3 : int = 12,\n",
    "                 color : str = 'White',\n",
    "                ):\n",
    "        self.toxic = toxic\n",
    "        self.size_cm3 = size_cm3\n",
    "        self.color = color\n",
    "                 \n",
    "\n",
    "\n",
    "\n",
    "\n",
    "    \n"
   ]
  },
  {
   "cell_type": "code",
   "execution_count": 50,
   "id": "af651253-f801-4ef6-a4c3-284e6094eadb",
   "metadata": {},
   "outputs": [],
   "source": [
    "class Pudge(Character, Playable):\n",
    "    def Hook(self):\n",
    "        print('Ya hukau')\n",
    "\n",
    "    \n",
    "    "
   ]
  },
  {
   "cell_type": "code",
   "execution_count": 51,
   "id": "cd30ba06-3f9f-4fc5-a7f9-b313f0758565",
   "metadata": {},
   "outputs": [],
   "source": [
    "class Mercury(FunkoPop, Toy):\n",
    "    pass"
   ]
  },
  {
   "cell_type": "code",
   "execution_count": 52,
   "id": "975c2b29-5ca8-4944-b11c-617b13c6d906",
   "metadata": {},
   "outputs": [],
   "source": [
    "class Marcy(Character, Playable):\n",
    "    def ulti():\n",
    "        print('Прыгаю тебе на лицо блин')"
   ]
  },
  {
   "cell_type": "code",
   "execution_count": 55,
   "id": "a60710d5",
   "metadata": {},
   "outputs": [
    {
     "name": "stdout",
     "output_type": "stream",
     "text": [
      "I\"m alive\n",
      "OH NO, I'M MELTING!!\n",
      "I dying...\n"
     ]
    }
   ],
   "source": [
    "pudge = Pudge()\n",
    "pudge.mixinSpawn()\n",
    "\n",
    "freddie = Mercury()\n",
    "freddie.melting()\n",
    "\n",
    "marcy = Marcy()\n",
    "marcy.mixinDying()"
   ]
  },
  {
   "cell_type": "markdown",
   "id": "ba0d7ad1",
   "metadata": {},
   "source": []
  },
  {
   "cell_type": "markdown",
   "id": "0acf7a36",
   "metadata": {},
   "source": []
  },
  {
   "cell_type": "code",
   "execution_count": null,
   "id": "eb3d1d20",
   "metadata": {},
   "outputs": [],
   "source": []
  }
 ],
 "metadata": {
  "kernelspec": {
   "display_name": "Python 3 (ipykernel)",
   "language": "python",
   "name": "python3"
  },
  "language_info": {
   "codemirror_mode": {
    "name": "ipython",
    "version": 3
   },
   "file_extension": ".py",
   "mimetype": "text/x-python",
   "name": "python",
   "nbconvert_exporter": "python",
   "pygments_lexer": "ipython3",
   "version": "3.10.11"
  }
 },
 "nbformat": 4,
 "nbformat_minor": 5
}
