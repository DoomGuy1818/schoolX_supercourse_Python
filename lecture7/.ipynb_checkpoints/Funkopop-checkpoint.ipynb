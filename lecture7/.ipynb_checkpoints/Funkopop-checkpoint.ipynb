{
 "cells": [
  {
   "cell_type": "code",
   "execution_count": 6,
   "id": "04abfd03-9025-4b65-9d89-65c15d08c449",
   "metadata": {},
   "outputs": [],
   "source": [
    "class Playable:\n",
    "    pass"
   ]
  },
  {
   "cell_type": "code",
   "execution_count": 7,
   "id": "35a5e177-f0b1-4c4e-b872-139c8b4255d2",
   "metadata": {},
   "outputs": [],
   "source": [
    "class FunkoPop:\n",
    "    pass"
   ]
  },
  {
   "cell_type": "code",
   "execution_count": 8,
   "id": "8014e39d-69c9-420e-9851-9fd52bcbeb98",
   "metadata": {},
   "outputs": [],
   "source": [
    "class Character():\n",
    "    def __init__(self,\n",
    "                 name: str = \"Евгений\",\n",
    "                 secondName: str | None = None,\n",
    "                 naked : bool = False,\n",
    "                 color : str = 'White',\n",
    "\n",
    "    ):\n",
    "        self.name = name\n",
    "        self.secondName = secondName\n",
    "        self.naked = naked\n",
    "        self.color = color\n",
    "    \n",
    "class FunkoPop(Character):\n",
    "    \n",
    "    def __init__(self,\n",
    "                 toxic: bool = False,\n",
    "                 size_cm3 : int = 12,\n",
    "                 color : str = 'White',\n",
    "                ):\n",
    "        self.toxic = toxic\n",
    "        self.size_cm3 = size_cm3\n",
    "        self.color = color\n",
    "                 \n",
    "\n",
    "\n",
    "\n",
    "\n",
    "    \n"
   ]
  },
  {
   "cell_type": "code",
   "execution_count": 9,
   "id": "af651253-f801-4ef6-a4c3-284e6094eadb",
   "metadata": {},
   "outputs": [],
   "source": [
    "class Pudge(Character, Playable):\n",
    "    def Hook():\n",
    "        print('Ya hukau')\n",
    "    "
   ]
  },
  {
   "cell_type": "code",
   "execution_count": 10,
   "id": "cd30ba06-3f9f-4fc5-a7f9-b313f0758565",
   "metadata": {},
   "outputs": [
    {
     "ename": "TypeError",
     "evalue": "Cannot create a consistent method resolution\norder (MRO) for bases Character, FunkoPop",
     "output_type": "error",
     "traceback": [
      "\u001b[1;31m---------------------------------------------------------------------------\u001b[0m",
      "\u001b[1;31mTypeError\u001b[0m                                 Traceback (most recent call last)",
      "Cell \u001b[1;32mIn[10], line 1\u001b[0m\n\u001b[1;32m----> 1\u001b[0m \u001b[38;5;28;01mclass\u001b[39;00m \u001b[38;5;21;01mMercury\u001b[39;00m(Character, FunkoPop):\n\u001b[0;32m      2\u001b[0m     \u001b[38;5;28;01mpass\u001b[39;00m\n",
      "\u001b[1;31mTypeError\u001b[0m: Cannot create a consistent method resolution\norder (MRO) for bases Character, FunkoPop"
     ]
    }
   ],
   "source": [
    "class Mercury(Character, FunkoPop):\n",
    "    pass"
   ]
  },
  {
   "cell_type": "code",
   "execution_count": null,
   "id": "975c2b29-5ca8-4944-b11c-617b13c6d906",
   "metadata": {},
   "outputs": [],
   "source": [
    "class Marcy(Character, Playable)"
   ]
  }
 ],
 "metadata": {
  "kernelspec": {
   "display_name": "Python 3 (ipykernel)",
   "language": "python",
   "name": "python3"
  },
  "language_info": {
   "codemirror_mode": {
    "name": "ipython",
    "version": 3
   },
   "file_extension": ".py",
   "mimetype": "text/x-python",
   "name": "python",
   "nbconvert_exporter": "python",
   "pygments_lexer": "ipython3",
   "version": "3.10.4"
  }
 },
 "nbformat": 4,
 "nbformat_minor": 5
}
