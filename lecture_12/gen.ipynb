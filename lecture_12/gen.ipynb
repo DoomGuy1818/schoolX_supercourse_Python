{
 "cells": [
  {
   "cell_type": "code",
   "execution_count": 4,
   "metadata": {},
   "outputs": [
    {
     "name": "stdout",
     "output_type": "stream",
     "text": [
      "[0, 1, 4, 9, 16, 25, 36, 49, 64, 81]\n",
      "<generator object gen_squared at 0x000001FD719A92A0>\n"
     ]
    }
   ],
   "source": [
    "def list_squared(num:int) -> list[int]:\n",
    "    new_list = []\n",
    "    for n in range(num):\n",
    "        new_list.append(n**2)\n",
    "    return new_list\n",
    "\n",
    "def gen_squared(num: int) -> list[int]:\n",
    "    for n in range(num):\n",
    "        yield n**2\n",
    "\n",
    "print(list_squared(10))\n",
    "print(gen_squared(10))"
   ]
  },
  {
   "cell_type": "code",
   "execution_count": null,
   "metadata": {},
   "outputs": [],
   "source": []
  },
  {
   "cell_type": "code",
   "execution_count": null,
   "metadata": {},
   "outputs": [],
   "source": []
  }
 ],
 "metadata": {
  "kernelspec": {
   "display_name": "Python 3",
   "language": "python",
   "name": "python3"
  },
  "language_info": {
   "codemirror_mode": {
    "name": "ipython",
    "version": 3
   },
   "file_extension": ".py",
   "mimetype": "text/x-python",
   "name": "python",
   "nbconvert_exporter": "python",
   "pygments_lexer": "ipython3",
   "version": "3.10.11"
  }
 },
 "nbformat": 4,
 "nbformat_minor": 2
}
