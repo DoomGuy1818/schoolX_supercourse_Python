{
 "cells": [
  {
   "cell_type": "code",
   "execution_count": 4,
   "id": "04abfd03-9025-4b65-9d89-65c15d08c449",
   "metadata": {},
   "outputs": [],
   "source": [
    "class MixinNamable:\n",
    "    def __init__(self, name):\n",
    "        self.name = name\n",
    "\n",
    "class MixinPlayable:\n",
    "    def walk(self):\n",
    "        print('I walking')\n",
    "\n",
    "    def dying(self):\n",
    "        print('I dying...')\n",
    "\n",
    "    def spawn(self):\n",
    "        print('I\"m alive')\n",
    "\n",
    "class MixinTalkable:\n",
    "    def talk(self):\n",
    "        print('Hello to you')\n",
    "\n",
    "class MixinMelting:\n",
    "    def melting(self):\n",
    "        print('Toy is melting')\n",
    "    \n",
    "class MixinCrushable:  \n",
    "    def crush(self):\n",
    "        print('Toy is crushed when falling on floor')\n",
    "    \n",
    "class MixinTouchable:\n",
    "    def touch(self):\n",
    "        print('You touched me')\n",
    "\n",
    "class MixinHookable:\n",
    "    def hook(self):\n",
    "        print('Time to Pudge')"
   ]
  },
  {
   "cell_type": "code",
   "execution_count": 8,
   "id": "35a5e177-f0b1-4c4e-b872-139c8b4255d2",
   "metadata": {},
   "outputs": [],
   "source": [
    "class FunkoPop(MixinMelting, MixinCrushable, MixinTouchable, MixinNamable):\n",
    "    pass\n",
    "\n",
    "class Playable(MixinPlayable, MixinTalkable, MixinNamable):\n",
    "    pass"
   ]
  },
  {
   "cell_type": "code",
   "execution_count": 10,
   "id": "8014e39d-69c9-420e-9851-9fd52bcbeb98",
   "metadata": {},
   "outputs": [],
   "source": [
    "class Character:\n",
    "    def create_proof(self):\n",
    "        print(f'Hello! {self.name} in the house!')\n",
    "\n",
    "class IlyaLubenets(Character):\n",
    "    def ilusha_proof(self):\n",
    "        print(f'{self.name} in the house')\n",
    "\n",
    "class LarsUlrich(Character):\n",
    "    def lars_proof(self):\n",
    "        print(f'{self.name} in the house')\n",
    "    \n",
    "class Pudge(Character):\n",
    "    def pudge_proof(self):\n",
    "        print(f'{self.name} in the house')\n",
    "    \n",
    "    \n",
    "    \n",
    "                 \n",
    "\n",
    "\n",
    "\n",
    "\n",
    "    \n"
   ]
  },
  {
   "cell_type": "code",
   "execution_count": 11,
   "id": "af651253-f801-4ef6-a4c3-284e6094eadb",
   "metadata": {},
   "outputs": [],
   "source": [
    "class PlayblePudge(Pudge, Playable):\n",
    "    pass\n",
    "\n",
    "class FunkoPudge(Pudge, FunkoPop):\n",
    "    pass\n",
    "\n",
    "class PlayableLars(LarsUlrich, Playable):\n",
    "    pass\n",
    "\n",
    "class FunkoLars(LarsUlrich, FunkoPop):\n",
    "    pass\n",
    "\n",
    "class PlayableLubenets(IlyaLubenets, Playable):\n",
    "    pass\n",
    "\n",
    "class FunkoLubenets(IlyaLubenets, FunkoPop):\n",
    "    pass\n",
    "\n",
    "   \n",
    "\n",
    "    \n",
    "    "
   ]
  },
  {
   "cell_type": "code",
   "execution_count": 63,
   "id": "b3bb7c30",
   "metadata": {},
   "outputs": [
    {
     "name": "stdout",
     "output_type": "stream",
     "text": [
      "Жесть я в домашке\n"
     ]
    }
   ],
   "source": []
  },
  {
   "cell_type": "code",
   "execution_count": 68,
   "id": "cd30ba06-3f9f-4fc5-a7f9-b313f0758565",
   "metadata": {},
   "outputs": [],
   "source": []
  },
  {
   "cell_type": "code",
   "execution_count": 69,
   "id": "975c2b29-5ca8-4944-b11c-617b13c6d906",
   "metadata": {},
   "outputs": [],
   "source": []
  },
  {
   "cell_type": "code",
   "execution_count": 71,
   "id": "a60710d5",
   "metadata": {},
   "outputs": [
    {
     "name": "stdout",
     "output_type": "stream",
     "text": [
      "I\"m alive\n",
      "OH NO, I'M MELTING!!\n",
      "I dying...\n"
     ]
    }
   ],
   "source": []
  },
  {
   "cell_type": "markdown",
   "id": "ba0d7ad1",
   "metadata": {},
   "source": []
  },
  {
   "cell_type": "markdown",
   "id": "0acf7a36",
   "metadata": {},
   "source": []
  },
  {
   "cell_type": "code",
   "execution_count": null,
   "id": "eb3d1d20",
   "metadata": {},
   "outputs": [],
   "source": []
  }
 ],
 "metadata": {
  "kernelspec": {
   "display_name": "Python 3 (ipykernel)",
   "language": "python",
   "name": "python3"
  },
  "language_info": {
   "codemirror_mode": {
    "name": "ipython",
    "version": 3
   },
   "file_extension": ".py",
   "mimetype": "text/x-python",
   "name": "python",
   "nbconvert_exporter": "python",
   "pygments_lexer": "ipython3",
   "version": "3.10.11"
  }
 },
 "nbformat": 4,
 "nbformat_minor": 5
}
