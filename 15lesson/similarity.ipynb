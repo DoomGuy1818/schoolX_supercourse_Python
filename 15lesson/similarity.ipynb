{
 "cells": [
  {
   "cell_type": "code",
   "execution_count": 2,
   "metadata": {},
   "outputs": [],
   "source": [
    "import spacy as sp\n",
    "from spacy.tokenizer import Tokenizer\n",
    "nlp = sp.load('ru_core_news_sm') \n",
    "nlp.max_length = 1500000"
   ]
  },
  {
   "cell_type": "code",
   "execution_count": 3,
   "metadata": {},
   "outputs": [],
   "source": [
    "with open('Tolstoy Aleksey Nikolaevich. Petr Pervyy - BooksCafe.Net.txt', 'r', encoding = 'utf-8') as book1:\n",
    "    text1 = book1.read()\n",
    "\n",
    "with open('Tolstoy Aleksey Nikolaevich. Zolotoy klyuchik ili priklyucheniya Buratino - BooksCafe.Net.txt', 'r', encoding = 'utf-8') as book2:\n",
    "    text2 = book2.read()\n",
    "\n",
    "with open('Tolstoy Aleksey. Aelita (Zakat Marsa) - BooksCafe.Net.txt', 'r', encoding = 'utf-8') as book3:\n",
    "    text3 = book3.read()\n",
    "\n",
    "with open('Tolstoy Aleksey. Giperboloid inzhenera Garina - BooksCafe.Net.txt', 'r', encoding = 'utf-8') as book4:\n",
    "    text4 = book4.read()\n",
    "\n",
    "with open('Tolstoy Aleksey. Graf Kaliostro - BooksCafe.Net.txt', 'r', encoding = 'utf-8') as book5:\n",
    "    text5 = book5.read()\n",
    "\n",
    "with open('Tolstoy Aleksey. Malchik s palchik - BooksCafe.Net.txt', 'r', encoding = 'utf-8') as book6:\n",
    "    text6 = book6.read()\n",
    "\n",
    "\n"
   ]
  },
  {
   "cell_type": "markdown",
   "metadata": {},
   "source": []
  },
  {
   "cell_type": "code",
   "execution_count": 1,
   "metadata": {},
   "outputs": [
    {
     "ename": "NameError",
     "evalue": "name 'nlp' is not defined",
     "output_type": "error",
     "traceback": [
      "\u001b[1;31m---------------------------------------------------------------------------\u001b[0m",
      "\u001b[1;31mNameError\u001b[0m                                 Traceback (most recent call last)",
      "\u001b[1;32mc:\\Users\\asdsf\\major-IT-musled\\15lesson\\similarity.ipynb Cell 4\u001b[0m line \u001b[0;36m1\n\u001b[1;32m----> <a href='vscode-notebook-cell:/c%3A/Users/asdsf/major-IT-musled/15lesson/similarity.ipynb#W3sZmlsZQ%3D%3D?line=0'>1</a>\u001b[0m doc \u001b[39m=\u001b[39m nlp(text1)\n\u001b[0;32m      <a href='vscode-notebook-cell:/c%3A/Users/asdsf/major-IT-musled/15lesson/similarity.ipynb#W3sZmlsZQ%3D%3D?line=1'>2</a>\u001b[0m words_filtered \u001b[39m=\u001b[39m [token\u001b[39m.\u001b[39mtext \u001b[39mfor\u001b[39;00m token \u001b[39min\u001b[39;00m doc \u001b[39mif\u001b[39;00m \u001b[39mnot\u001b[39;00m token\u001b[39m.\u001b[39mis_punct \u001b[39mand\u001b[39;00m \u001b[39mnot\u001b[39;00m token\u001b[39m.\u001b[39mis_stop]\n\u001b[0;32m      <a href='vscode-notebook-cell:/c%3A/Users/asdsf/major-IT-musled/15lesson/similarity.ipynb#W3sZmlsZQ%3D%3D?line=2'>3</a>\u001b[0m words_filtered\n",
      "\u001b[1;31mNameError\u001b[0m: name 'nlp' is not defined"
     ]
    }
   ],
   "source": [
    "doc = nlp(text1)\n",
    "words_filtered = [token.text for token in doc if not token.is_punct and not token.is_stop]\n",
    "words_filtered"
   ]
  },
  {
   "cell_type": "code",
   "execution_count": null,
   "metadata": {},
   "outputs": [],
   "source": []
  }
 ],
 "metadata": {
  "kernelspec": {
   "display_name": "Python 3",
   "language": "python",
   "name": "python3"
  },
  "language_info": {
   "codemirror_mode": {
    "name": "ipython",
    "version": 3
   },
   "file_extension": ".py",
   "mimetype": "text/x-python",
   "name": "python",
   "nbconvert_exporter": "python",
   "pygments_lexer": "ipython3",
   "version": "3.10.11"
  }
 },
 "nbformat": 4,
 "nbformat_minor": 2
}
