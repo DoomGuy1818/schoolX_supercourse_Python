{
 "cells": [
  {
   "cell_type": "code",
   "execution_count": 2,
   "metadata": {},
   "outputs": [],
   "source": [
    "import spacy\n",
    "nlp = spacy.load('ru_core_news_sm')\n",
    "nlp.max_length = 1700000\n"
   ]
  },
  {
   "cell_type": "code",
   "execution_count": 3,
   "metadata": {},
   "outputs": [],
   "source": [
    "with open('Tolstoy Aleksey Nikolaevich. Petr Pervyy - BooksCafe.Net.txt', 'r', encoding = 'utf-8') as book1:\n",
    "    text1 = book1.read()\n",
    "\n",
    "with open('Tolstoy Aleksey Nikolaevich. Zolotoy klyuchik ili priklyucheniya Buratino - BooksCafe.Net.txt', 'r', encoding = 'utf-8') as book2:\n",
    "    text2 = book2.read()\n",
    "\n",
    "with open('Tolstoy Aleksey. Aelita (Zakat Marsa) - BooksCafe.Net.txt', 'r', encoding = 'utf-8') as book3:\n",
    "    text3 = book3.read()\n",
    "\n",
    "with open('Tolstoy Aleksey. Giperboloid inzhenera Garina - BooksCafe.Net.txt', 'r', encoding = 'utf-8') as book4:\n",
    "    text4 = book4.read()\n",
    "\n",
    "with open('Tolstoy Aleksey. Graf Kaliostro - BooksCafe.Net.txt', 'r', encoding = 'utf-8') as book5:\n",
    "    text5 = book5.read()\n",
    "\n",
    "with open('Tolstoy Aleksey. Malchik s palchik - BooksCafe.Net.txt', 'r', encoding = 'utf-8') as book6:\n",
    "    text6 = book6.read()"
   ]
  },
  {
   "cell_type": "code",
   "execution_count": 4,
   "metadata": {},
   "outputs": [],
   "source": []
  },
  {
   "cell_type": "code",
   "execution_count": null,
   "metadata": {},
   "outputs": [],
   "source": [
    "doc = nlp(text2)\n",
    "\n",
    "tokens = [token.text for token in doc]\n",
    "lemma = [token.lemma_ for token in doc]\n",
    "pos_tags = [token.pos_ for token in doc]\n",
    "filtered_tokens = [token.text for token in doc if not token.is_stop]"
   ]
  },
  {
   "cell_type": "code",
   "execution_count": null,
   "metadata": {},
   "outputs": [],
   "source": [
    "doc = nlp(text3)\n",
    "\n",
    "tokens = [token.text for token in doc]\n",
    "lemma = [token.lemma_ for token in doc]\n",
    "pos_tags = [token.pos_ for token in doc]\n",
    "filtered_tokens = [token.text for token in doc if not token.is_stop]"
   ]
  },
  {
   "cell_type": "code",
   "execution_count": null,
   "metadata": {},
   "outputs": [],
   "source": [
    "doc = nlp(text4)\n",
    "\n",
    "tokens = [token.text for token in doc]\n",
    "lemma = [token.lemma_ for token in doc]\n",
    "pos_tags = [token.pos_ for token in doc]\n",
    "filtered_tokens = [token.text for token in doc if not token.is_stop]"
   ]
  },
  {
   "cell_type": "code",
   "execution_count": null,
   "metadata": {},
   "outputs": [],
   "source": [
    "doc = nlp(text5)\n",
    "\n",
    "tokens = [token.text for token in doc]\n",
    "lemma = [token.lemma_ for token in doc]\n",
    "pos_tags = [token.pos_ for token in doc]\n",
    "filtered_tokens = [token.text for token in doc if not token.is_stop]"
   ]
  },
  {
   "cell_type": "code",
   "execution_count": null,
   "metadata": {},
   "outputs": [],
   "source": [
    "doc = nlp(text6)\n",
    "\n",
    "tokens = [token.text for token in doc]\n",
    "lemma = [token.lemma_ for token in doc]\n",
    "pos_tags = [token.pos_ for token in doc]\n",
    "filtered_tokens = [token.text for token in doc if not token.is_stop]"
   ]
  },
  {
   "cell_type": "code",
   "execution_count": null,
   "metadata": {},
   "outputs": [],
   "source": [
    "def preprocession(text):\n",
    "    doc = nlp(text1)\n",
    "\n",
    "    tokens = [token.text for token in doc]\n",
    "    lemma = [token.lemma_ for token in doc]\n",
    "    pos_tags = [token.pos_ for token in doc]\n",
    "    filtered_tokens = [token.text for token in doc if not token.is_stop]\n",
    "    "
   ]
  }
 ],
 "metadata": {
  "kernelspec": {
   "display_name": "Python 3",
   "language": "python",
   "name": "python3"
  },
  "language_info": {
   "codemirror_mode": {
    "name": "ipython",
    "version": 3
   },
   "file_extension": ".py",
   "mimetype": "text/x-python",
   "name": "python",
   "nbconvert_exporter": "python",
   "pygments_lexer": "ipython3",
   "version": "3.10.11"
  }
 },
 "nbformat": 4,
 "nbformat_minor": 2
}
